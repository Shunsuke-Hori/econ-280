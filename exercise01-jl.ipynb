{
 "cells": [
  {
   "cell_type": "markdown",
   "metadata": {},
   "source": [
    "# Exercise 1"
   ]
  },
  {
   "cell_type": "markdown",
   "metadata": {},
   "source": [
    "## Part 1a"
   ]
  },
  {
   "cell_type": "code",
   "execution_count": 1,
   "metadata": {},
   "outputs": [],
   "source": [
    "A = [ 6 9  2;  1 8  2; -3  1 -6];\n",
    "B = [-4 7 -7; -1 6 -5;  2 -5 -1];"
   ]
  },
  {
   "cell_type": "markdown",
   "metadata": {},
   "source": [
    "## Part 1b"
   ]
  },
  {
   "cell_type": "code",
   "execution_count": 2,
   "metadata": {},
   "outputs": [
    {
     "data": {
      "text/plain": [
       "\"AB = \""
      ]
     },
     "metadata": {},
     "output_type": "display_data"
    },
    {
     "data": {
      "text/plain": [
       "3×3 Array{Int64,2}:\n",
       " -29  86  -89\n",
       "  -8  45  -49\n",
       "  -1  15   22"
      ]
     },
     "metadata": {},
     "output_type": "display_data"
    },
    {
     "data": {
      "text/plain": [
       "\"A^4 = \""
      ]
     },
     "metadata": {},
     "output_type": "display_data"
    },
    {
     "data": {
      "text/plain": [
       "3×3 Array{Int64,2}:\n",
       " 2563  14142  2046\n",
       "  918   6499   786\n",
       " -129  -2547   892"
      ]
     },
     "metadata": {},
     "output_type": "display_data"
    },
    {
     "data": {
      "text/plain": [
       "\"A'B^(-1) = \""
      ]
     },
     "metadata": {},
     "output_type": "display_data"
    },
    {
     "data": {
      "text/plain": [
       "3×3 Array{Float64,2}:\n",
       " -1.83333  3.0     0.833333\n",
       " -3.89583  5.375  -0.604167\n",
       " -0.4375   1.625   0.9375  "
      ]
     },
     "metadata": {},
     "output_type": "display_data"
    },
    {
     "data": {
      "text/plain": [
       "\"b_ij = \""
      ]
     },
     "metadata": {},
     "output_type": "display_data"
    },
    {
     "data": {
      "text/plain": [
       "3×3 Array{Int64,2}:\n",
       " -64   343  -343\n",
       "  -1   216  -125\n",
       "   8  -125    -1"
      ]
     },
     "metadata": {},
     "output_type": "display_data"
    },
    {
     "data": {
      "text/plain": [
       "\"a_ij / b_ij = \""
      ]
     },
     "metadata": {},
     "output_type": "display_data"
    },
    {
     "data": {
      "text/plain": [
       "3×3 Array{Float64,2}:\n",
       " -1.5   1.28571  -0.285714\n",
       " -1.0   1.33333  -0.4     \n",
       " -1.5  -0.2       6.0     "
      ]
     },
     "metadata": {},
     "output_type": "display_data"
    }
   ],
   "source": [
    "display(\"AB = \")\n",
    "display(A * B)\n",
    "\n",
    "display(\"A^4 = \")\n",
    "display(A^4)\n",
    "\n",
    "display(\"A'B^(-1) = \")\n",
    "display(/(A', B))\n",
    "\n",
    "display(\"b_ij = \")\n",
    "display(B.^3)\n",
    "\n",
    "display(\"a_ij / b_ij = \")\n",
    "display(A ./ B)"
   ]
  },
  {
   "cell_type": "markdown",
   "metadata": {},
   "source": [
    "## Exercise 1c"
   ]
  },
  {
   "cell_type": "code",
   "execution_count": 3,
   "metadata": {},
   "outputs": [
    {
     "data": {
      "text/plain": [
       "\"X = \""
      ]
     },
     "metadata": {},
     "output_type": "display_data"
    },
    {
     "data": {
      "text/plain": [
       "3×3 Array{Float64,2}:\n",
       " -0.592  0.096  -0.272\n",
       " -0.04   0.52   -0.64 \n",
       " -0.044  0.872   0.196"
      ]
     },
     "metadata": {},
     "output_type": "display_data"
    }
   ],
   "source": [
    "display(\"X = \")\n",
    "display(\\(A, B));"
   ]
  },
  {
   "cell_type": "markdown",
   "metadata": {},
   "source": [
    "## Exercise 1d"
   ]
  },
  {
   "cell_type": "code",
   "execution_count": 4,
   "metadata": {},
   "outputs": [
    {
     "data": {
      "text/plain": [
       "\"C = \""
      ]
     },
     "metadata": {},
     "output_type": "display_data"
    },
    {
     "data": {
      "text/plain": [
       "3×3 Array{Int64,2}:\n",
       " 0  18  0\n",
       " 0  16  0\n",
       " 0   0  0"
      ]
     },
     "metadata": {},
     "output_type": "display_data"
    }
   ],
   "source": [
    "C                = 2 .* A;\n",
    "C[(A .+ B) .< 5] = 0;\n",
    "display(\"C = \")\n",
    "display(C)"
   ]
  },
  {
   "cell_type": "code",
   "execution_count": 5,
   "metadata": {},
   "outputs": [
    {
     "data": {
      "text/plain": [
       "\"[-4 7 -7; -1 6 -5] * [ 9 2; 8 2; 1 -6] = \""
      ]
     },
     "metadata": {},
     "output_type": "display_data"
    },
    {
     "data": {
      "text/plain": [
       "2×2 Array{Int64,2}:\n",
       " 13  48\n",
       " 34  40"
      ]
     },
     "metadata": {},
     "output_type": "display_data"
    },
    {
     "data": {
      "text/plain": [
       "\"[1 9 2; 1 8 2; 1 1 -6] * [7; 6; -5] = \""
      ]
     },
     "metadata": {},
     "output_type": "display_data"
    },
    {
     "data": {
      "text/plain": [
       "3-element Array{Int64,1}:\n",
       " 51\n",
       " 45\n",
       " 43"
      ]
     },
     "metadata": {},
     "output_type": "display_data"
    },
    {
     "data": {
      "text/plain": [
       "\"[-3 1 -6] * [6 9 2; 2 -5 -1; 1 8 2] = \""
      ]
     },
     "metadata": {},
     "output_type": "display_data"
    },
    {
     "data": {
      "text/plain": [
       "1×3 Array{Int64,2}:\n",
       " -22  -80  -19"
      ]
     },
     "metadata": {},
     "output_type": "display_data"
    }
   ],
   "source": [
    "# Exercise 1e\n",
    "display(\"[-4 7 -7; -1 6 -5] * [ 9 2; 8 2; 1 -6] = \")\n",
    "display([-4 7 -7; -1 6 -5] * [ 9 2; 8 2; 1 -6])\n",
    "\n",
    "display(\"[1 9 2; 1 8 2; 1 1 -6] * [7; 6; -5] = \")\n",
    "display([1 9 2; 1 8 2; 1 1 -6] * [7; 6; -5])\n",
    "\n",
    "display(\"[-3 1 -6] * [6 9 2; 2 -5 -1; 1 8 2] = \")\n",
    "display([-3 1 -6] * [6 9 2; 2 -5 -1; 1 8 2])"
   ]
  }
 ],
 "metadata": {
  "kernelspec": {
   "display_name": "Julia 0.6.0",
   "language": "julia",
   "name": "julia-0.6"
  },
  "language_info": {
   "file_extension": ".jl",
   "mimetype": "application/julia",
   "name": "julia",
   "version": "0.6.1"
  }
 },
 "nbformat": 4,
 "nbformat_minor": 2
}
